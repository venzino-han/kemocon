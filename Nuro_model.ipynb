{
 "cells": [
  {
   "cell_type": "code",
   "execution_count": 2,
   "metadata": {},
   "outputs": [],
   "source": [
    "import os\n",
    "import pandas as pd\n",
    "import numpy as np\n",
    "from os.path import *"
   ]
  },
  {
   "cell_type": "markdown",
   "metadata": {},
   "source": [
    "## Load data\n",
    "- load csv and convert to numpy"
   ]
  },
  {
   "cell_type": "code",
   "execution_count": 78,
   "metadata": {},
   "outputs": [
    {
     "name": "stdout",
     "output_type": "stream",
     "text": [
      "The autoreload extension is already loaded. To reload it, use:\n",
      "  %reload_ext autoreload\n"
     ]
    }
   ],
   "source": [
    "%load_ext autoreload\n",
    "%autoreload 2\n",
    "from converter import *"
   ]
  },
  {
   "cell_type": "code",
   "execution_count": 79,
   "metadata": {},
   "outputs": [],
   "source": [
    "label = pd.read_csv('1_label.csv')\n",
    "neuro = pd.read_csv('1_neuro.csv')"
   ]
  },
  {
   "cell_type": "code",
   "execution_count": 80,
   "metadata": {},
   "outputs": [],
   "source": [
    "#with out timestamp\n",
    "\n",
    "start = 1548120820000\n",
    "end = 1548121672000\n",
    "cols = ['delta', 'lowAlpha', 'highAlpha', 'lowBeta', 'highBeta', 'lowGamma', 'middleGamma', 'theta']\n",
    "data = match_ts(start, end, neuro, cols)"
   ]
  },
  {
   "cell_type": "code",
   "execution_count": null,
   "metadata": {},
   "outputs": [],
   "source": []
  },
  {
   "cell_type": "code",
   "execution_count": 81,
   "metadata": {},
   "outputs": [
    {
     "data": {
      "text/plain": [
       "(170, 5, 8)"
      ]
     },
     "execution_count": 81,
     "metadata": {},
     "output_type": "execute_result"
    }
   ],
   "source": [
    "## \n",
    "\n",
    "data.shape"
   ]
  },
  {
   "cell_type": "code",
   "execution_count": 7,
   "metadata": {},
   "outputs": [],
   "source": [
    "np.save('sample.npy',data)"
   ]
  },
  {
   "cell_type": "code",
   "execution_count": 8,
   "metadata": {},
   "outputs": [
    {
     "data": {
      "text/plain": [
       "(170, 5, 8)"
      ]
     },
     "execution_count": 8,
     "metadata": {},
     "output_type": "execute_result"
    }
   ],
   "source": [
    "np.load('sample.npy').shape"
   ]
  },
  {
   "cell_type": "code",
   "execution_count": 86,
   "metadata": {},
   "outputs": [
    {
     "data": {
      "text/plain": [
       "(181, 3)"
      ]
     },
     "execution_count": 86,
     "metadata": {},
     "output_type": "execute_result"
    }
   ],
   "source": [
    "y.shape"
   ]
  },
  {
   "cell_type": "code",
   "execution_count": 119,
   "metadata": {},
   "outputs": [
    {
     "name": "stderr",
     "output_type": "stream",
     "text": [
      "/home/doomguy/projects/02_SDS_PROJ/converter.py:45: SettingWithCopyWarning: \n",
      "A value is trying to be set on a copy of a slice from a DataFrame.\n",
      "Try using .loc[row_indexer,col_indexer] = value instead\n",
      "\n",
      "See the caveats in the documentation: https://pandas.pydata.org/pandas-docs/stable/user_guide/indexing.html#returning-a-view-versus-a-copy\n",
      "  label['l'] = label[col]<3.0\n",
      "/home/doomguy/projects/02_SDS_PROJ/converter.py:46: SettingWithCopyWarning: \n",
      "A value is trying to be set on a copy of a slice from a DataFrame.\n",
      "Try using .loc[row_indexer,col_indexer] = value instead\n",
      "\n",
      "See the caveats in the documentation: https://pandas.pydata.org/pandas-docs/stable/user_guide/indexing.html#returning-a-view-versus-a-copy\n",
      "  label['m'] = label[col]==3.0\n",
      "/home/doomguy/projects/02_SDS_PROJ/converter.py:47: SettingWithCopyWarning: \n",
      "A value is trying to be set on a copy of a slice from a DataFrame.\n",
      "Try using .loc[row_indexer,col_indexer] = value instead\n",
      "\n",
      "See the caveats in the documentation: https://pandas.pydata.org/pandas-docs/stable/user_guide/indexing.html#returning-a-view-versus-a-copy\n",
      "  label['h'] = label[col]>3.0\n"
     ]
    }
   ],
   "source": [
    "''' 중립 vs 안중립 '''\n",
    "\n",
    "y = onehot_label(label, 'arousal')\n",
    "y.shape\n",
    "\n",
    "y_ =[]\n",
    "\n",
    "for x in y:\n",
    "    if x[0] == 1:\n",
    "        y_.append(1)\n",
    "        continue\n",
    "    if x[1] == 1:\n",
    "        y_.append(0)\n",
    "        continue\n",
    "    if x[2] == 1:\n",
    "        y_.append(1)\n",
    "        continue\n",
    "         \n",
    "    y_.append(-1)\n"
   ]
  },
  {
   "cell_type": "code",
   "execution_count": null,
   "metadata": {},
   "outputs": [],
   "source": [
    "#smote --> knn augumentation "
   ]
  },
  {
   "cell_type": "code",
   "execution_count": 120,
   "metadata": {},
   "outputs": [],
   "source": [
    "y= np.array(y_)"
   ]
  },
  {
   "cell_type": "code",
   "execution_count": 154,
   "metadata": {},
   "outputs": [],
   "source": [
    "# index of \n",
    "y_=np.where(y== 1)"
   ]
  },
  {
   "cell_type": "code",
   "execution_count": 143,
   "metadata": {},
   "outputs": [
    {
     "data": {
      "text/plain": [
       "array([[4.74988530e-05, 6.09364872e-05, 9.06915887e-06, 2.85990846e-05,\n",
       "        7.01668038e-05, 4.48259981e-05, 7.93760961e-05, 8.20737425e-05],\n",
       "       [8.14579679e-05, 8.19583074e-05, 4.66922011e-05, 2.13625415e-05,\n",
       "        5.43329370e-05, 4.96894399e-05, 9.69486096e-06, 1.11955483e-05],\n",
       "       [7.07268136e-05, 9.88455054e-06, 2.17717203e-06, 4.01572630e-05,\n",
       "        9.91986364e-05, 5.65268301e-05, 6.91606038e-05, 3.34978168e-05],\n",
       "       [4.57803041e-05, 9.12499115e-05, 2.08171810e-05, 9.85180252e-05,\n",
       "        4.46903934e-05, 7.99590189e-05, 9.21926939e-05, 4.33155251e-07],\n",
       "       [1.69020732e-05, 7.91468875e-05, 8.82065781e-05, 2.87669196e-05,\n",
       "        2.73720935e-05, 8.24260948e-05, 4.99544189e-06, 9.92443488e-05]])"
      ]
     },
     "execution_count": 143,
     "metadata": {},
     "output_type": "execute_result"
    }
   ],
   "source": [
    "np.random.rand(5,8)*1e-5"
   ]
  },
  {
   "cell_type": "code",
   "execution_count": 145,
   "metadata": {},
   "outputs": [],
   "source": [
    "data_ = np.array([data[i] for i in np.where(y==1)])"
   ]
  },
  {
   "cell_type": "code",
   "execution_count": 149,
   "metadata": {},
   "outputs": [
    {
     "data": {
      "text/plain": [
       "array([[4.3805540e-02, 2.2329703e-02, 1.5428959e-02, 2.2470227e-02,\n",
       "        2.7197918e-03, 2.1924647e-03, 4.2104912e-01, 2.3558897e-01],\n",
       "       [5.3477362e-03, 1.0489467e-02, 6.1514755e-03, 1.5976857e-02,\n",
       "        7.6636299e-04, 1.3246925e-03, 3.1276476e-01, 3.8993824e-02],\n",
       "       [2.2756201e-03, 1.0420798e-02, 3.1535330e-03, 2.9547713e-03,\n",
       "        6.3655939e-04, 3.8912118e-04, 2.9500196e-02, 1.7355151e-02],\n",
       "       [1.0652591e-02, 1.3482774e-02, 2.7158804e-02, 3.0517183e-02,\n",
       "        2.2573664e-03, 1.9838517e-03, 2.8739107e-01, 1.2208119e-01],\n",
       "       [8.1692273e-03, 4.2863887e-02, 1.0452670e-02, 1.9539215e-02,\n",
       "        1.3803226e-03, 2.2478050e-03, 1.7229955e-01, 1.7262523e-01]],\n",
       "      dtype=float32)"
      ]
     },
     "execution_count": 149,
     "metadata": {},
     "output_type": "execute_result"
    }
   ],
   "source": [
    "data_[0][0]"
   ]
  },
  {
   "cell_type": "code",
   "execution_count": 152,
   "metadata": {},
   "outputs": [],
   "source": [
    "for i in range(len(data_[0])):\n",
    "    data_[0][i]+=np.random.rand(5,8)*3e-5"
   ]
  },
  {
   "cell_type": "code",
   "execution_count": 153,
   "metadata": {},
   "outputs": [
    {
     "data": {
      "text/plain": [
       "array([[4.3815844e-02, 2.2359146e-02, 1.5451259e-02, 2.2496883e-02,\n",
       "        2.7333498e-03, 2.2194756e-03, 4.2107868e-01, 2.3561171e-01],\n",
       "       [5.3650639e-03, 1.0515835e-02, 6.1852247e-03, 1.6002335e-02,\n",
       "        7.9012883e-04, 1.3504402e-03, 3.1278449e-01, 3.9002594e-02],\n",
       "       [2.2924580e-03, 1.0427114e-02, 3.1580790e-03, 2.9639006e-03,\n",
       "        6.5810542e-04, 4.1063814e-04, 2.9522721e-02, 1.7372925e-02],\n",
       "       [1.0680028e-02, 1.3492673e-02, 2.7183156e-02, 3.0553428e-02,\n",
       "        2.2865653e-03, 2.0121501e-03, 2.8742468e-01, 1.2209133e-01],\n",
       "       [8.1974613e-03, 4.2871233e-02, 1.0455268e-02, 1.9558320e-02,\n",
       "        1.3968180e-03, 2.2572950e-03, 1.7230254e-01, 1.7265396e-01]],\n",
       "      dtype=float32)"
      ]
     },
     "execution_count": 153,
     "metadata": {},
     "output_type": "execute_result"
    }
   ],
   "source": [
    "data_[0][0]"
   ]
  },
  {
   "cell_type": "markdown",
   "metadata": {},
   "source": [
    "## Normalize & Split"
   ]
  },
  {
   "cell_type": "code",
   "execution_count": 121,
   "metadata": {},
   "outputs": [],
   "source": [
    "data= data.astype('float32')"
   ]
  },
  {
   "cell_type": "code",
   "execution_count": 156,
   "metadata": {},
   "outputs": [],
   "source": [
    "data = np.concatenate((data, data_[0]), axis=0)\n",
    "y = np.concatenate((y[:170], y_[0]), axis=0)"
   ]
  },
  {
   "cell_type": "code",
   "execution_count": 157,
   "metadata": {},
   "outputs": [
    {
     "data": {
      "text/plain": [
       "((196, 5, 8), (196,))"
      ]
     },
     "execution_count": 157,
     "metadata": {},
     "output_type": "execute_result"
    }
   ],
   "source": [
    "data.shape, y.shape"
   ]
  },
  {
   "cell_type": "code",
   "execution_count": 158,
   "metadata": {},
   "outputs": [
    {
     "data": {
      "text/plain": [
       "((147, 5, 8), (49, 5, 8))"
      ]
     },
     "execution_count": 158,
     "metadata": {},
     "output_type": "execute_result"
    }
   ],
   "source": [
    "from sklearn.model_selection import train_test_split\n",
    "\n",
    "#user by user \n",
    "data = (data- data.min())/(data.max() - data.min())\n",
    "\n",
    "X_train, X_test, y_train, y_test = train_test_split(data, y, random_state=0)\n",
    "X_train.shape, X_test.shape"
   ]
  },
  {
   "cell_type": "code",
   "execution_count": 159,
   "metadata": {},
   "outputs": [],
   "source": [
    "import tensorflow as tf\n",
    "\n",
    "from tensorflow.keras.layers import Dense, Flatten, Conv2D\n",
    "from tensorflow.keras import Model\n"
   ]
  },
  {
   "cell_type": "code",
   "execution_count": 160,
   "metadata": {},
   "outputs": [],
   "source": [
    "X_train = X_train[..., tf.newaxis]\n",
    "X_test = X_test[..., tf.newaxis]"
   ]
  },
  {
   "cell_type": "code",
   "execution_count": 161,
   "metadata": {},
   "outputs": [
    {
     "data": {
      "text/plain": [
       "(147, 5, 8, 1)"
      ]
     },
     "execution_count": 161,
     "metadata": {},
     "output_type": "execute_result"
    }
   ],
   "source": [
    "X_train.shape"
   ]
  },
  {
   "cell_type": "code",
   "execution_count": 162,
   "metadata": {},
   "outputs": [],
   "source": [
    "train_ds = tf.data.Dataset.from_tensor_slices(\n",
    "    (X_train, y_train)).shuffle(10000).batch(12)\n",
    "test_ds = tf.data.Dataset.from_tensor_slices((X_test, y_test)).batch(12)"
   ]
  },
  {
   "cell_type": "code",
   "execution_count": 163,
   "metadata": {},
   "outputs": [],
   "source": [
    "class MyModel(Model):\n",
    "  def __init__(self):\n",
    "    super(MyModel, self).__init__()\n",
    "    self.conv1 = Conv2D(3, 1, activation='relu')\n",
    "    self.conv2 = Conv2D(2, 3, activation='relu')\n",
    "    self.conv3= Conv2D(1, 1, activation='relu')\n",
    "    self.flatten = Flatten()\n",
    "    self.d1 = Dense(62, activation='relu')\n",
    "    self.d2 = Dense(3, activation='softmax')\n",
    "\n",
    "  def call(self, x):\n",
    "    x = self.conv1(x)\n",
    "    x = self.conv2(x)\n",
    "    x = self.conv3(x)\n",
    "    x = self.flatten(x)\n",
    "#     print(x.shape)\n",
    "    x = self.d1(x)\n",
    "#     print(x.shape)\n",
    "    return self.d2(x)\n",
    "\n",
    "model = MyModel()"
   ]
  },
  {
   "cell_type": "code",
   "execution_count": 164,
   "metadata": {},
   "outputs": [],
   "source": [
    "loss_object = tf.keras.losses.SparseCategoricalCrossentropy()\n",
    "\n",
    "optimizer = tf.keras.optimizers.Adam()\n",
    "\n",
    "train_loss = tf.keras.metrics.Mean(name='train_loss')\n",
    "train_accuracy = tf.keras.metrics.SparseCategoricalAccuracy(name='train_accuracy')\n",
    "\n",
    "test_loss = tf.keras.metrics.Mean(name='test_loss')\n",
    "test_accuracy = tf.keras.metrics.SparseCategoricalAccuracy(name='test_accuracy')\n",
    "\n",
    "@tf.function\n",
    "def train_step(images, labels):\n",
    "  with tf.GradientTape() as tape:\n",
    "    predictions = model(images)\n",
    "    loss = loss_object(labels, predictions)\n",
    "  gradients = tape.gradient(loss, model.trainable_variables)\n",
    "  optimizer.apply_gradients(zip(gradients, model.trainable_variables))\n",
    "\n",
    "  train_loss(loss)\n",
    "  train_accuracy(labels, predictions)\n",
    "# f1 , auc, roc \n",
    "    \n",
    "@tf.function\n",
    "def test_step(images, labels):\n",
    "  predictions = model(images)\n",
    "  t_loss = loss_object(labels, predictions)\n",
    "\n",
    "  test_loss(t_loss)\n",
    "  test_accuracy(labels, predictions)"
   ]
  },
  {
   "cell_type": "code",
   "execution_count": 165,
   "metadata": {},
   "outputs": [
    {
     "name": "stdout",
     "output_type": "stream",
     "text": [
      "에포크: 1, 손실: nan, 정확도: 72.10884094238281, 테스트 손실: nan, 테스트 정확도: 79.59183502197266\n",
      "에포크: 101, 손실: nan, 정확도: 72.10884094238281, 테스트 손실: nan, 테스트 정확도: 79.59183502197266\n",
      "에포크: 201, 손실: nan, 정확도: 72.10884094238281, 테스트 손실: nan, 테스트 정확도: 79.59183502197266\n",
      "에포크: 301, 손실: nan, 정확도: 72.10884094238281, 테스트 손실: nan, 테스트 정확도: 79.59183502197266\n",
      "에포크: 401, 손실: nan, 정확도: 72.10884094238281, 테스트 손실: nan, 테스트 정확도: 79.59183502197266\n",
      "에포크: 501, 손실: nan, 정확도: 72.10884094238281, 테스트 손실: nan, 테스트 정확도: 79.59183502197266\n",
      "에포크: 601, 손실: nan, 정확도: 72.10884094238281, 테스트 손실: nan, 테스트 정확도: 79.59183502197266\n",
      "에포크: 701, 손실: nan, 정확도: 72.10884094238281, 테스트 손실: nan, 테스트 정확도: 79.59183502197266\n",
      "에포크: 801, 손실: nan, 정확도: 72.10884094238281, 테스트 손실: nan, 테스트 정확도: 79.59183502197266\n",
      "에포크: 901, 손실: nan, 정확도: 72.10884094238281, 테스트 손실: nan, 테스트 정확도: 79.59183502197266\n",
      "에포크: 1001, 손실: nan, 정확도: 72.10884094238281, 테스트 손실: nan, 테스트 정확도: 79.59183502197266\n",
      "에포크: 1101, 손실: nan, 정확도: 72.10884094238281, 테스트 손실: nan, 테스트 정확도: 79.59183502197266\n",
      "에포크: 1201, 손실: nan, 정확도: 72.10884094238281, 테스트 손실: nan, 테스트 정확도: 79.59183502197266\n",
      "에포크: 1301, 손실: nan, 정확도: 72.10884094238281, 테스트 손실: nan, 테스트 정확도: 79.59183502197266\n",
      "에포크: 1401, 손실: nan, 정확도: 72.10884094238281, 테스트 손실: nan, 테스트 정확도: 79.59183502197266\n",
      "에포크: 1501, 손실: nan, 정확도: 72.10884094238281, 테스트 손실: nan, 테스트 정확도: 79.59183502197266\n",
      "에포크: 1601, 손실: nan, 정확도: 72.10884094238281, 테스트 손실: nan, 테스트 정확도: 79.59183502197266\n",
      "에포크: 1701, 손실: nan, 정확도: 72.10884094238281, 테스트 손실: nan, 테스트 정확도: 79.59183502197266\n",
      "에포크: 1801, 손실: nan, 정확도: 72.10884094238281, 테스트 손실: nan, 테스트 정확도: 79.59183502197266\n",
      "에포크: 1901, 손실: nan, 정확도: 72.10884094238281, 테스트 손실: nan, 테스트 정확도: 79.59183502197266\n"
     ]
    }
   ],
   "source": [
    "EPOCHS = 2000\n",
    "\n",
    "for epoch in range(EPOCHS):\n",
    "  for images, labels in train_ds:\n",
    "    train_step(images, labels)\n",
    "\n",
    "  for test_images, test_labels in test_ds:\n",
    "    test_step(test_images, test_labels)\n",
    "\n",
    "  template = '에포크: {}, 손실: {}, 정확도: {}, 테스트 손실: {}, 테스트 정확도: {}'\n",
    "  if epoch % 100 == 0 :\n",
    "      print (template.format(epoch+1,\n",
    "                             train_loss.result(),\n",
    "                             train_accuracy.result()*100,\n",
    "                             test_loss.result(),\n",
    "                             test_accuracy.result()*100))"
   ]
  },
  {
   "cell_type": "code",
   "execution_count": 166,
   "metadata": {},
   "outputs": [
    {
     "data": {
      "text/plain": [
       "0.14285714285714285"
      ]
     },
     "execution_count": 166,
     "metadata": {},
     "output_type": "execute_result"
    }
   ],
   "source": [
    "list(y_train).count(1)/len(y_train)"
   ]
  },
  {
   "cell_type": "code",
   "execution_count": 167,
   "metadata": {},
   "outputs": [
    {
     "data": {
      "text/plain": [
       "0.12244897959183673"
      ]
     },
     "execution_count": 167,
     "metadata": {},
     "output_type": "execute_result"
    }
   ],
   "source": [
    "list(y_test).count(1)/len(y_test)"
   ]
  },
  {
   "cell_type": "code",
   "execution_count": null,
   "metadata": {},
   "outputs": [],
   "source": []
  }
 ],
 "metadata": {
  "kernelspec": {
   "display_name": "Python 3",
   "language": "python",
   "name": "python3"
  },
  "language_info": {
   "codemirror_mode": {
    "name": "ipython",
    "version": 3
   },
   "file_extension": ".py",
   "mimetype": "text/x-python",
   "name": "python",
   "nbconvert_exporter": "python",
   "pygments_lexer": "ipython3",
   "version": "3.7.3"
  }
 },
 "nbformat": 4,
 "nbformat_minor": 4
}
