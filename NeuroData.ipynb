{
 "cells": [
  {
   "cell_type": "code",
   "execution_count": 4,
   "metadata": {},
   "outputs": [],
   "source": [
    "import pandas as np\n",
    "import numpy as np\n",
    "import os\n",
    "import tensorflow as tf"
   ]
  },
  {
   "cell_type": "code",
   "execution_count": 167,
   "metadata": {},
   "outputs": [
    {
     "name": "stdout",
     "output_type": "stream",
     "text": [
      "The autoreload extension is already loaded. To reload it, use:\n",
      "  %reload_ext autoreload\n"
     ]
    }
   ],
   "source": [
    "%load_ext autoreload\n",
    "%autoreload 2\n",
    "\n",
    "from loader import *\n",
    "from converter import * "
   ]
  },
  {
   "cell_type": "markdown",
   "metadata": {},
   "source": [
    "## Get Data start end for each person"
   ]
  },
  {
   "cell_type": "code",
   "execution_count": 6,
   "metadata": {},
   "outputs": [],
   "source": [
    "sbj = pd.read_csv('subjects.csv')"
   ]
  },
  {
   "cell_type": "code",
   "execution_count": 8,
   "metadata": {},
   "outputs": [],
   "source": [
    "pids = list(range(1,33))\n",
    "startEndDic={}\n",
    "\n",
    "for i in range(32):\n",
    "    startEndDic[i+1] = [ sbj.iloc[i]['startTime'], sbj.iloc[i]['endTime'] ] "
   ]
  },
  {
   "cell_type": "code",
   "execution_count": 66,
   "metadata": {},
   "outputs": [],
   "source": [
    "start, end = startEndDic[1]"
   ]
  },
  {
   "cell_type": "markdown",
   "metadata": {},
   "source": [
    "## Generate .npy file for each person "
   ]
  },
  {
   "cell_type": "code",
   "execution_count": 82,
   "metadata": {},
   "outputs": [
    {
     "name": "stdout",
     "output_type": "stream",
     "text": [
      "1\n",
      "2\n",
      "3\n",
      "4\n",
      "5\n",
      "6\n",
      "7\n",
      "8\n",
      "9\n",
      "10\n",
      "11\n",
      "12\n",
      "13\n",
      "14\n",
      "15\n",
      "16\n",
      "17\n",
      "18\n",
      "19\n",
      "20\n",
      "21\n",
      "22\n",
      "23\n",
      "24\n",
      "25\n",
      "26\n",
      "27\n",
      "28\n",
      "29\n",
      "30\n",
      "31\n",
      "32\n"
     ]
    }
   ],
   "source": [
    "cols = ['timestamp', 'delta', 'lowAlpha', 'highAlpha', 'lowBeta', 'highBeta', 'lowGamma', 'middleGamma', 'theta']\n",
    "\n",
    "for pid in pids:\n",
    "    print(pid)\n",
    "    # get start, end\n",
    "    start, end = startEndDic[pid]\n",
    "    \n",
    "    #load data & label \n",
    "    data, label = pd.read_csv(str(pid)+'_neuro.csv'), pd.read_csv(str(pid)+'_label.csv')\n",
    "    \n",
    "    #transfor\n",
    "    label = label_converter(label, 'arousal', [1,1,1], [2.9,3.1])\n",
    "    data = match_ts(start, end, data, cols)\n",
    "    \n",
    "    #save npy\n",
    "    np.save(str(pid)+'_x.npy',data)\n",
    "    np.save(str(pid)+'_y.npy',label)\n"
   ]
  },
  {
   "cell_type": "code",
   "execution_count": 88,
   "metadata": {},
   "outputs": [],
   "source": [
    "datas = []\n",
    "for i in pids:\n",
    "    datas.append(np.load(str(i)+'_x.npy'))"
   ]
  },
  {
   "cell_type": "code",
   "execution_count": 89,
   "metadata": {},
   "outputs": [],
   "source": [
    "labels = []\n",
    "for i in pids:\n",
    "    labels.append(np.load(str(i)+'_y.npy'))"
   ]
  },
  {
   "cell_type": "code",
   "execution_count": 90,
   "metadata": {},
   "outputs": [
    {
     "data": {
      "text/plain": [
       "(32, 32)"
      ]
     },
     "execution_count": 90,
     "metadata": {},
     "output_type": "execute_result"
    }
   ],
   "source": [
    "len(datas), len(labels)"
   ]
  },
  {
   "cell_type": "code",
   "execution_count": 104,
   "metadata": {},
   "outputs": [
    {
     "data": {
      "text/plain": [
       "array([[ 151358.,   77237.,   53420.,   77722.,    9556.,    7736.,\n",
       "        1453364.,  813273.],\n",
       "       [  18626.,   36372.,   21400.,   55311.,    2814.,    4741.,\n",
       "        1079635.,  134751.],\n",
       "       [   8023.,   36135.,   11053.,   10367.,    2366.,    1512.,\n",
       "         101985.,   60068.],\n",
       "       [  36935.,   46703.,   93904.,  105495.,    7960.,    7016.,\n",
       "         992061.,  421516.],\n",
       "       [  28364.,  148108.,   36245.,   67606.,    4933.,    7927.,\n",
       "         594838.,  595962.]])"
      ]
     },
     "execution_count": 104,
     "metadata": {},
     "output_type": "execute_result"
    }
   ],
   "source": [
    "datas[0][0]"
   ]
  },
  {
   "cell_type": "code",
   "execution_count": 105,
   "metadata": {},
   "outputs": [],
   "source": [
    "#Normalize each data/person\n",
    "for i in range(len(datas)):\n",
    "    d= datas[i]\n",
    "    datas[i] = (d-d.min())/(d.max()-d.min())"
   ]
  },
  {
   "cell_type": "code",
   "execution_count": 106,
   "metadata": {},
   "outputs": [
    {
     "data": {
      "text/plain": [
       "array([[4.38055414e-02, 2.23297030e-02, 1.54289590e-02, 2.24702270e-02,\n",
       "        2.71979190e-03, 2.19246461e-03, 4.21049109e-01, 2.35588971e-01],\n",
       "       [5.34773613e-03, 1.04894669e-02, 6.15147563e-03, 1.59768579e-02,\n",
       "        7.66363009e-04, 1.32469251e-03, 3.12764768e-01, 3.89938248e-02],\n",
       "       [2.27562007e-03, 1.04207985e-02, 3.15353308e-03, 2.95477125e-03,\n",
       "        6.36559369e-04, 3.89121180e-04, 2.95001951e-02, 1.73551523e-02],\n",
       "       [1.06525907e-02, 1.34827736e-02, 2.71588040e-02, 3.05171835e-02,\n",
       "        2.25736643e-03, 1.98385162e-03, 2.87391054e-01, 1.22081193e-01],\n",
       "       [8.16922686e-03, 4.28638855e-02, 1.04526699e-02, 1.95392145e-02,\n",
       "        1.38032264e-03, 2.24780500e-03, 1.72299556e-01, 1.72625224e-01]])"
      ]
     },
     "execution_count": 106,
     "metadata": {},
     "output_type": "execute_result"
    }
   ],
   "source": [
    "datas[0][0]"
   ]
  },
  {
   "cell_type": "code",
   "execution_count": 107,
   "metadata": {},
   "outputs": [],
   "source": [
    "#split by user\n",
    "trainData, testData = datas[:24], datas[24:]\n",
    "trainY, testY = labels[:24], labels[24:]"
   ]
  },
  {
   "cell_type": "code",
   "execution_count": 110,
   "metadata": {},
   "outputs": [
    {
     "data": {
      "text/plain": [
       "[array([0, 0, 0, 0, 0, 1, 1, 1, 0, 1, 0, 0, 1, 1, 0, 0, 1, 1, 1, 1, 1, 0,\n",
       "        1, 1, 1, 1, 1, 1, 1, 1, 1, 1, 1, 1, 1, 1, 1, 1, 1, 1, 1, 1, 1, 1,\n",
       "        1, 1, 1, 1, 1, 1, 0, 1, 1, 1, 1, 1, 1, 1, 1, 1, 1, 1, 1, 1, 1, 1,\n",
       "        1, 1, 1, 1, 1, 1, 1, 1, 1, 1, 1, 1, 1, 1, 1, 1, 1, 2, 2, 1, 2, 1,\n",
       "        1, 1, 1, 1, 1, 1, 1, 0, 1, 1, 1, 1, 1, 0, 0, 1, 1, 1, 1, 1, 1, 1,\n",
       "        1, 1, 1, 1, 1, 1, 1, 1, 1, 1, 1, 1, 1, 1, 1, 1, 1, 1, 1, 1, 1, 1,\n",
       "        1, 1, 1, 1, 1, 1, 1, 1, 1, 1, 0, 0, 0, 1, 1, 0, 1, 0, 0, 0, 0, 1,\n",
       "        1, 1, 1, 1, 1, 1, 1, 1, 1, 1, 1, 1, 1, 1, 1, 1, 1, 1, 1, 1, 1, 1,\n",
       "        1, 1, 1, 1, 1], dtype=int8),\n",
       " array([1, 1, 1, 2, 1, 1, 1, 2, 1, 1, 1, 1, 1, 1, 1, 2, 1, 1, 1, 1, 1, 1,\n",
       "        1, 1, 1, 1, 1, 1, 1, 1, 1, 1, 1, 1, 1, 1, 1, 1, 1, 1, 1, 1, 1, 1,\n",
       "        1, 1, 1, 1, 1, 1, 1, 2, 2, 2, 2, 2, 2, 1, 2, 1, 2, 2, 2, 1, 1, 2,\n",
       "        1, 1, 1, 1, 1, 1, 1, 1, 1, 1, 1, 1, 1, 1, 1, 1, 1, 1, 1, 1, 1, 1,\n",
       "        1, 1, 1, 1, 1, 1, 1, 1, 1, 1, 1, 1, 1, 1, 1, 1, 1, 1, 1, 1, 1, 1,\n",
       "        1, 1, 1, 1, 1, 1, 1, 1, 1, 1, 1, 1, 1, 1, 1, 1, 1, 1, 1, 1, 1, 1,\n",
       "        1, 1, 1, 1, 1, 1, 1, 1, 1, 2, 1, 1, 1, 1, 1, 1, 1, 1, 1, 1, 1, 1,\n",
       "        1, 1, 1, 1, 0, 0, 0, 0, 0, 0, 0, 0, 0, 0, 0, 0, 0, 0, 1, 1, 1, 1,\n",
       "        1, 1, 1, 1], dtype=int8)]"
      ]
     },
     "execution_count": 110,
     "metadata": {},
     "output_type": "execute_result"
    }
   ],
   "source": [
    "# 6*5 sec for each train\n",
    "win=6\n",
    "\n",
    "#majority for each label\n",
    "trainY[:2]"
   ]
  },
  {
   "cell_type": "code",
   "execution_count": 114,
   "metadata": {},
   "outputs": [],
   "source": [
    "yArr = trainY[0]"
   ]
  },
  {
   "cell_type": "code",
   "execution_count": 152,
   "metadata": {},
   "outputs": [],
   "source": [
    "l = len(yArr)\n",
    "th = 2\n",
    "arr = []\n",
    "win = 6\n",
    "for i in range(l-win+1):\n",
    "    y = yArr[i:i+win]\n",
    "    if np.count_nonzero(y == 2) >= th:\n",
    "        arr.append(2)\n",
    "    elif np.count_nonzero(y == 0) >= th:\n",
    "        arr.append(0)\n",
    "    else:\n",
    "        arr.append(1)\n",
    "        "
   ]
  },
  {
   "cell_type": "code",
   "execution_count": 161,
   "metadata": {},
   "outputs": [],
   "source": [
    "l = len(xArr)\n",
    "th = 1\n",
    "arr = []\n",
    "win = 6\n",
    "for i in range(l-win+1):\n",
    "    x = xArr[i:i+win]\n",
    "    x = np.concatenate(x)\n",
    "    arr.append(x)        "
   ]
  },
  {
   "cell_type": "code",
   "execution_count": 164,
   "metadata": {},
   "outputs": [
    {
     "data": {
      "text/plain": [
       "(30, 8)"
      ]
     },
     "execution_count": 164,
     "metadata": {},
     "output_type": "execute_result"
    }
   ],
   "source": [
    "np.array(arr)[0].shape"
   ]
  },
  {
   "cell_type": "code",
   "execution_count": 169,
   "metadata": {},
   "outputs": [
    {
     "data": {
      "text/plain": [
       "165"
      ]
     },
     "execution_count": 169,
     "metadata": {},
     "output_type": "execute_result"
    }
   ],
   "source": [
    "len(data_window(xArr, win))"
   ]
  },
  {
   "cell_type": "code",
   "execution_count": null,
   "metadata": {},
   "outputs": [],
   "source": []
  }
 ],
 "metadata": {
  "kernelspec": {
   "display_name": "Python 3",
   "language": "python",
   "name": "python3"
  },
  "language_info": {
   "codemirror_mode": {
    "name": "ipython",
    "version": 3
   },
   "file_extension": ".py",
   "mimetype": "text/x-python",
   "name": "python",
   "nbconvert_exporter": "python",
   "pygments_lexer": "ipython3",
   "version": "3.7.3"
  }
 },
 "nbformat": 4,
 "nbformat_minor": 4
}
